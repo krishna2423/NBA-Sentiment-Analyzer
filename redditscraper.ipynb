{
 "cells": [
  {
   "cell_type": "code",
   "execution_count": 1,
   "id": "19588df9-8310-4133-9173-38eef2f0e4f2",
   "metadata": {},
   "outputs": [],
   "source": [
    "#reddit nba scraper"
   ]
  },
  {
   "cell_type": "code",
   "execution_count": 2,
   "id": "de77bc4e-238c-4690-9034-8ecf74d29107",
   "metadata": {},
   "outputs": [],
   "source": [
    "#first 500 of nba subreddit \"hot category\" datapoints(testing)"
   ]
  },
  {
   "cell_type": "code",
   "execution_count": 3,
   "id": "c67f3ff5-1bd9-4cd4-9d83-8d6e51cf5e58",
   "metadata": {},
   "outputs": [],
   "source": [
    "import time \n",
    "import httpx \n",
    "import pandas as pd"
   ]
  },
  {
   "cell_type": "code",
   "execution_count": 4,
   "id": "ed80f855-97d0-4e3c-97c2-bb32ad0946a4",
   "metadata": {},
   "outputs": [],
   "source": [
    "base_url = 'https://www.reddit.com'\n",
    "endpoint = '/r/nba'\n",
    "category = '/hot'"
   ]
  },
  {
   "cell_type": "code",
   "execution_count": 5,
   "id": "c30a0edc-ee75-48d8-87bc-9a58b5fec0f3",
   "metadata": {},
   "outputs": [],
   "source": [
    "url = base_url + endpoint + category + '.json'\n",
    "after_post_id = None"
   ]
  },
  {
   "cell_type": "code",
   "execution_count": 6,
   "id": "3ee4d194-71bf-474e-87fe-6d0713eef6ef",
   "metadata": {},
   "outputs": [],
   "source": [
    "dataset =[]"
   ]
  },
  {
   "cell_type": "code",
   "execution_count": 7,
   "id": "0878ff99-0db7-46c7-b121-bea615f23d37",
   "metadata": {},
   "outputs": [
    {
     "name": "stdout",
     "output_type": "stream",
     "text": [
      "fetching \"https://www.reddit.com/r/nba/hot.json?limit=100&t=year&after=\"...\n",
      "fetching \"https://www.reddit.com/r/nba/hot.json?limit=100&t=year&after=t3_1hzxukn\"...\n",
      "fetching \"https://www.reddit.com/r/nba/hot.json?limit=100&t=year&after=t3_1hzdtx3\"...\n",
      "fetching \"https://www.reddit.com/r/nba/hot.json?limit=100&t=year&after=t3_1hylfqp\"...\n",
      "fetching \"https://www.reddit.com/r/nba/hot.json?limit=100&t=year&after=t3_1hyehoy\"...\n"
     ]
    }
   ],
   "source": [
    "for _ in range(5): \n",
    "    params = {\n",
    "        'limit':100, \n",
    "        't': 'year', \n",
    "        'after': after_post_id\n",
    "    }\n",
    "    response = httpx.get(url, params=params)\n",
    "    print(f'fetching \"{response.url}\"...')\n",
    "    if response.status_code != 200: \n",
    "        raise Exception('Failed to fetch data')\n",
    "    json_data = response.json()\n",
    "\n",
    "    dataset.extend([rec['data'] for rec in json_data['data']['children']])\n",
    "    after_post_id = json_data['data']['after']\n",
    "    time.sleep(0.5)"
   ]
  },
  {
   "cell_type": "code",
   "execution_count": 8,
   "id": "f1f65252-071e-43b2-a9d2-977e21e7ab5b",
   "metadata": {},
   "outputs": [],
   "source": [
    "#df = pd.DataFrame(dataset)\n",
    "#df.to_csv('reddit_nba_hot.csv', index = False)"
   ]
  },
  {
   "cell_type": "code",
   "execution_count": 11,
   "id": "2bc93767-f6c5-486f-ac6b-3b811e50a8be",
   "metadata": {},
   "outputs": [],
   "source": [
    "import praw \n",
    "import json\n",
    "import pandas as pd\n",
    "import seaborn as sns \n",
    "import matplotlib.pyplot as plt\n",
    "import numpy as np\n",
    "from pprint import pprint"
   ]
  },
  {
   "cell_type": "code",
   "execution_count": 12,
   "id": "9ba6b1d3-8804-46a5-8ffa-b2808db7dd61",
   "metadata": {},
   "outputs": [],
   "source": [
    "client_id = ...\n",
    "client_secret = ...\n",
    "user_agent = ...\n",
    "username = ...\n",
    "password = ..."
   ]
  },
  {
   "cell_type": "code",
   "execution_count": 13,
   "id": "023f6a8c-f310-4c52-9651-d6264a6788ac",
   "metadata": {},
   "outputs": [],
   "source": [
    "# masterlist for all team subreddits and the nba subreddit\n",
    "masterlist = []"
   ]
  },
  {
   "cell_type": "code",
   "execution_count": 11,
   "id": "79c59153-d696-4d6c-9dc2-2389ecae5f19",
   "metadata": {},
   "outputs": [],
   "source": [
    "reddit = praw.Reddit(client_id=client_id, client_secret=client_secret, user_agent=user_agent, username=username, password=password)"
   ]
  },
  {
   "cell_type": "code",
   "execution_count": 12,
   "id": "4cfb5be1-ca5d-4fe6-9f8a-f41313f8e1c3",
   "metadata": {},
   "outputs": [],
   "source": [
    "categories = ['hot', 'new', 'top', 'controversial']\n",
    "subreddits = ['nba', 'warriors', 'lakers', 'bostonceltics', 'torontoraptors', 'sixers', 'chicagobulls', 'rockets', 'NYKnicks', 'clevelandcavs', 'Thunder', 'MkeBucks', \n",
    "              'mavericks', 'NBASpurs', 'timberwolves', 'washingtonwizards', 'UtahJazz', 'ripcity', 'suns', 'kings', 'heat', 'denvernuggets', 'AtlantaHawks', 'GoNets',\n",
    "              'OrlandoMagic', 'DetroitPistons', 'LAClippers', 'pacers', 'CharlotteHornets', 'NOLAPelicans', 'memphisgrizzlies']"
   ]
  },
  {
   "cell_type": "code",
   "execution_count": 13,
   "id": "51a15656-33cc-45ca-96e5-613b048fed68",
   "metadata": {},
   "outputs": [
    {
     "data": {
      "text/plain": [
       "'\\nfor s in subreddits: \\n    exec(f\\'{s}subred = reddit.subreddit(\"{s}\")\\')\\n    for c in categories: \\n        exec(f\\'{s}{c} = {s}subred.{c}(limit = 1000)\\')\\n        exec(f\\'masterlist.extend(list({s}{c}))\\')\\n'"
      ]
     },
     "execution_count": 13,
     "metadata": {},
     "output_type": "execute_result"
    }
   ],
   "source": [
    "for s in subreddits: \n",
    "    exec(f'{s}subred = reddit.subreddit(\"{s}\")')\n",
    "    for c in categories: \n",
    "        exec(f'{s}{c} = {s}subred.{c}(limit = 1000)')\n",
    "        exec(f'masterlist.extend(list({s}{c}))')"
   ]
  },
  {
   "cell_type": "code",
   "execution_count": 480,
   "id": "77758e6c-09ba-4b31-80ae-0ca40177f9e0",
   "metadata": {},
   "outputs": [],
   "source": [
    "data = []"
   ]
  },
  {
   "cell_type": "code",
   "execution_count": 481,
   "id": "d95841de-2d3d-4844-95e1-0152cea4a6a7",
   "metadata": {},
   "outputs": [],
   "source": [
    "for submission in masterlist: \n",
    "    data.append([submission.title, submission.id, submission.author, submission.name, submission.author_flair_text, submission.num_comments, submission.created_utc, \n",
    "                submission.score, submission.url, submission.upvote_ratio])"
   ]
  },
  {
   "cell_type": "code",
   "execution_count": 482,
   "id": "d553339a-c90f-4c16-96df-b07ce0a7ee23",
   "metadata": {},
   "outputs": [],
   "source": [
    "df = pd.DataFrame(data, columns=['Title', 'ID', 'Author', 'Name', 'Author Flair Text', '# Comments', 'Time', '# Upvotes', 'Link', 'Upvote Ratio'])"
   ]
  },
  {
   "cell_type": "code",
   "execution_count": 483,
   "id": "7ebcd7e1-dc21-4668-8db2-bf1d2ce888ee",
   "metadata": {},
   "outputs": [],
   "source": [
    "df.to_csv('reddit_nba_master_data.csv', index = False)"
   ]
  },
  {
   "cell_type": "code",
   "execution_count": null,
   "id": "1e69b4ef-7fea-4037-bea6-80efd47583dc",
   "metadata": {},
   "outputs": [],
   "source": []
  },
  {
   "cell_type": "code",
   "execution_count": null,
   "id": "446e101c-9185-42f9-a69c-e0c663e02e77",
   "metadata": {},
   "outputs": [],
   "source": []
  }
 ],
 "metadata": {
  "kernelspec": {
   "display_name": "Python 3 (ipykernel)",
   "language": "python",
   "name": "python3"
  },
  "language_info": {
   "codemirror_mode": {
    "name": "ipython",
    "version": 3
   },
   "file_extension": ".py",
   "mimetype": "text/x-python",
   "name": "python",
   "nbconvert_exporter": "python",
   "pygments_lexer": "ipython3",
   "version": "3.10.16"
  }
 },
 "nbformat": 4,
 "nbformat_minor": 5
}
